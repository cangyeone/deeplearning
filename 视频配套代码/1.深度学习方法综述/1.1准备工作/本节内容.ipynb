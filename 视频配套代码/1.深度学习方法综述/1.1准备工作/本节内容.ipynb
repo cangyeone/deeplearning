{
 "cells": [
  {
   "attachments": {},
   "cell_type": "markdown",
   "metadata": {},
   "source": [
    "## 1.1 阅读本书前需要的准备工作"
   ]
  },
  {
   "attachments": {},
   "cell_type": "markdown",
   "metadata": {},
   "source": [
    "### 编程工具使用"
   ]
  },
  {
   "attachments": {},
   "cell_type": "markdown",
   "metadata": {},
   "source": [
    "#### 编程语言\n",
    "1. Python，快速代码实现和测试，非CS方向工作中也会常用作为基础语言\n",
    "2. C/C++，高性能编程语言，机器学习需要算力，硬件工程师\n",
    "3. Java?看需求\n",
    "4. 算法>语言\n",
    "#### 推荐使用环境\n",
    "1. Anaconda，https://www.anaconda.com/，推荐初学者使用\n",
    "    1. 常用的库基本上都包含了\n",
    "2. VSCode，https://code.visualstudio.com/，推荐初学者使用\n",
    "    1. 如果开发大型项目，PyCharm \n",
    "    2. 推荐安装拓展：中文扩展、Python"
   ]
  },
  {
   "attachments": {},
   "cell_type": "markdown",
   "metadata": {},
   "source": [
    "### 库函数使用"
   ]
  },
  {
   "attachments": {},
   "cell_type": "markdown",
   "metadata": {},
   "source": [
    "1. NumPy，随着Anaconda安装，pip install numpy \n",
    "    1. 矩阵计算库\n",
    "    2. 简单统计功能\n",
    "    3. 后续课程使用NumPy复现深度学习框架 \n",
    "2. Matplotlib，随着Anaconda安装，pip install matplotlib \n",
    "    1. 二维绘图（Python事实上的二维绘图库） \n",
    "    2. 出图调整后可以直接用于出版\n",
    "3. OpenCV，自行安装，计算机视觉库，pip install opencv-python \n",
    "    1. 包含了很多图像处理功能 \n",
    "    2. 读取图片和视频\n",
    "4. PyTorch，深度学习库，自行安装，参考https://pytorch.org/ \n",
    "    1. 可以代替NumPy矩阵计算功能，调用GPU \n",
    "    2. 基础统计功能\n",
    "    3. NumPy函数类似 \n",
    "    4. 多了自动求导功能"
   ]
  },
  {
   "attachments": {},
   "cell_type": "markdown",
   "metadata": {},
   "source": [
    "#### Python语言自学\n",
    "1. 基础语法 \n",
    "    1. 循环\n",
    "    2. 判断\n",
    "    3. 计算 \n",
    "2. 基础库\n",
    "    1. os \n",
    "    2. pickle \n",
    "3. 类的使用\n",
    "\n",
    "**可以参考本人其他视频**"
   ]
  },
  {
   "attachments": {},
   "cell_type": "markdown",
   "metadata": {},
   "source": [
    "### 需要做什么\n",
    "1. 基础工具安装好，课上代码自行编写并运行\n",
    "2. 本次课程可以练习使用：VSCode环境，jupyter notebook环境。"
   ]
  }
 ],
 "metadata": {
  "kernelspec": {
   "display_name": "base",
   "language": "python",
   "name": "python3"
  },
  "language_info": {
   "name": "python",
   "version": "3.9.12 (main, Apr  4 2022, 05:22:27) [MSC v.1916 64 bit (AMD64)]"
  },
  "orig_nbformat": 4,
  "vscode": {
   "interpreter": {
    "hash": "c19e02671d6b171777b6e6a83ef3b7c2cca585df144b1bbd7b7ab4b7daafbfc1"
   }
  }
 },
 "nbformat": 4,
 "nbformat_minor": 2
}
